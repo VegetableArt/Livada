{
 "cells": [
  {
   "cell_type": "markdown",
   "metadata": {},
   "source": [
    "# Livadă\n",
    "![Tarla](https://paperopera.files.wordpress.com/2014/08/9-romania-hillside.jpg \"Tarla\")\n",
    "## Problem statement\n",
    "We are considering to start our own orchard which we want to collect fruits from and sell it via a website to people looking for organic fruits. To make sure we are not wasting time and money we  first simulate the situation that we expect to have. This is our start phase of which we are curious about how much fruits we can collect. For this we wrote a script which can draw our orchard based on L-Systems and monitor how much fruits we can collect from it.\n",
    "## Programming approach\n",
    "Knowing that we will have multiple trees with the same property set we will first set-up a class containing the data relevant to a tree (ranging from name to age, and from age to amount of fruits that it has produced). This class will take the tasks to generate the L-system, reset the position of the Turtle and draw the tree according to the L-system commands.\n",
    "## Dataset\n",
    "To determine what kind of trees we will be growing we need to determine the according L-systems of certain trees. Because L-systems are not directly connected to a certain tree we will let our imagination do the work there.\n",
    "## Logging of data\n",
    "To determine performance of certain we need to log data from the trees. The dataset that is chosen to log is: `[category, name, age, branches_count, leaves_count, fruits_count]` which are not cumilative, but per year.\n",
    "## Plotting of data\n",
    "To prevent having to dig into the dataset we want to visualize our dataset.\n",
    "The following plots are relevant:\n",
    "- Fruits per tree per year\n",
    "- Fruits per tree category per year\n",
    "\n",
    "## Notes\n",
    "- The fruits do not only grow at the end of the branches, especially considering the trees grow every year, the end of the branch of the previous year will not be the end of it in the next year, but there will still be branches growing there. Also there needs to be a leaf at a branch in order to grow a fruit at that point.\n",
    "- An option would be to ask the user the inputs (axiom, leaf_length and so on) via the input() function, but because this would be too much work for a lot of trees that is not implemented.\n",
    "- Data structure of class arguments:\n",
    "    - number\n",
    "    - category\n",
    "    - name\n",
    "    - start_x\n",
    "    - start_y\n",
    "    - start_direction\n",
    "    - branch_length\n",
    "    - leaf_length\n",
    "    - fruit_size\n",
    "    - angle\n",
    "    - axiom\n",
    "    - fruit_from\n",
    "    - fruit_prob\n",
    "    - fruit_color\n",
    "\n",
    "## Extra features\n",
    "- User can define branch length, leaf size and fruit size\n",
    "- Trees are colored\n",
    "- Fruits/Leaves/Branches can be distinguished from each other\n",
    "- Data about trees is shown in the drawing\n",
    "- Probability for a fruit can be given (between 0 and 1)\n",
    "- Randomized locations are used\n",
    "- Automated planting is possible by giving how many trees of which kind you want to plant\n",
    "- Probability for growing a tree is given\n",
    "     - Total grown trees of planted seeds is given\n",
    "- Showing how far the program is with drawing the trees\n",
    "\n",
    "\n",
    "And probably some more things which we aren't aware of because we really liked it :)"
   ]
  },
  {
   "cell_type": "markdown",
   "metadata": {},
   "source": [
    "## Small example orchard\r\n",
    "![Example](https://i.imgur.com/A6KhMk0.png)"
   ]
  },
  {
   "cell_type": "markdown",
   "metadata": {},
   "source": [
    "## Loading dependencies"
   ]
  },
  {
   "cell_type": "code",
   "execution_count": 1,
   "metadata": {},
   "outputs": [],
   "source": [
    "from turtle import Turtle, Screen\n",
    "import turtle\n",
    "import random\n",
    "import matplotlib.pyplot as plt\n",
    "import pandas as pd"
   ]
  },
  {
   "cell_type": "markdown",
   "metadata": {},
   "source": [
    "## Setting up class\n",
    "More info about L-Systems: https://www.youtube.com/watch?v=f6ra024-ASY"
   ]
  },
  {
   "cell_type": "code",
   "execution_count": 2,
   "metadata": {},
   "outputs": [],
   "source": [
    "class turtleControl(object):\n",
    "    def __init__(self, number, category, name, start_x, start_y, start_direction, branch_length, leaf_length, fruit_size, angle, axiom, fruit_from, fruit_prob, fruit_color):\n",
    "         # Create the turtle object and set it at the right position\n",
    "        turtles.append(Turtle())\n",
    "        \n",
    "        # Set initial position/direction\n",
    "        self.start_x = start_x\n",
    "        self.start_y = start_y\n",
    "        self.direction = start_direction\n",
    "        \n",
    "        # Set name, category and number\n",
    "        self.name = name\n",
    "        self.category = category\n",
    "        self.number = number\n",
    "        \n",
    "        # Set the fruit properties\n",
    "        self.fruit_from = fruit_from\n",
    "        self.fruit_prob = fruit_prob\n",
    "        \n",
    "        # Start a initial year and give it an age of 0\n",
    "        self.newyear()\n",
    "        self.age = 0\n",
    "        \n",
    "        # Set drawing parameters\n",
    "        self.branch_length = branch_length\n",
    "        self.leaf_length = leaf_length\n",
    "        self.fruit_size = fruit_size\n",
    "        self.fruit_color = fruit_color\n",
    "        self.angle = angle\n",
    "        self.axiom = axiom\n",
    "        \n",
    "    # Iterate in a new year\n",
    "    def newyear(self):\n",
    "\n",
    "        # Reset location of Turtle\n",
    "        turtles[self.number].hideturtle()\n",
    "        turtles[self.number].penup()\n",
    "        turtles[self.number].setx(self.start_x)\n",
    "        turtles[self.number].sety(self.start_y)\n",
    "        turtles[self.number].setheading(self.direction)\n",
    "        turtles[self.number].speed(\"fastest\")\n",
    "        turtles[self.number].penup()\n",
    "        \n",
    "    # Create the L-System chain\n",
    "    def getfinalrule(self):\n",
    "        \n",
    "        # Use L-System theory to extend the axiom according to the rules\n",
    "        for rule in rules[self.number]:\n",
    "            extended_rule = [self.axiom]\n",
    "            for _ in range(self.age):\n",
    "                temp_s = []\n",
    "                for char in extended_rule[-1]:\n",
    "                    if char in rules[self.number]:\n",
    "                        temp_s.append(rules[self.number][char][-1])\n",
    "                    else:\n",
    "                        temp_s.append(char)\n",
    "                \n",
    "                extended_rule.append(''.join(temp_s))\n",
    "                \n",
    "        # Return latest L-system rulechain\n",
    "        return extended_rule[-1]\n",
    "        \n",
    "    def draw(self):\n",
    "        \n",
    "        # Draw the tree according to the ruleset that is returned from getfinalrule(self)\n",
    "        self.counts = [0,0,0] # branches, leaves, fruits\n",
    "        self.stack = []\n",
    "        rule = self.getfinalrule()\n",
    "        \n",
    "        # Loop through the chars in the rule variable\n",
    "        for command in rule:\n",
    "            turtles[self.number].pd()\n",
    "            if command == \"B\":\n",
    "                turtles[self.number].pensize(3)\n",
    "                turtles[self.number].color(\"brown\")\n",
    "                turtles[self.number].forward(self.branch_length)\n",
    "                self.counts[0] += 1\n",
    "            elif command == \"L\":\n",
    "                turtles[self.number].pensize(6)\n",
    "                turtles[self.number].color(\"green\")\n",
    "                turtles[self.number].forward(self.leaf_length)\n",
    "                self.counts[1] += 1\n",
    "            elif command == \"F\":\n",
    "                if(self.age>=self.fruit_from):\n",
    "                    if random.random() <= self.fruit_prob:\n",
    "                        turtles[self.number].pensize(8)\n",
    "                        turtles[self.number].color(self.fruit_color)\n",
    "                        turtles[self.number].forward(self.fruit_size)\n",
    "                        self.counts[2] += 1\n",
    "            elif command == \"+\":\n",
    "                turtles[self.number].right(self.angle)\n",
    "            elif command == \"-\":\n",
    "                turtles[self.number].left(self.angle)\n",
    "            elif command == \"[\":\n",
    "                self.stack.append((turtles[self.number].position(), turtles[self.number].heading()))\n",
    "            elif command == \"]\":\n",
    "                turtles[self.number].pu()  # pen up - not drawing\n",
    "                position, heading = self.stack.pop()\n",
    "                turtles[self.number].goto(position)\n",
    "                turtles[self.number].setheading(heading)\n",
    "        \n",
    "        # Add a year to the age\n",
    "        self.age += 1\n",
    "        \n",
    "        # Add the log data to the dataframe\n",
    "        log_data.loc[len(log_data)] = [self.category, self.name, self.age, self.counts[0], self.counts[1], self.counts[2]]"
   ]
  },
  {
   "cell_type": "markdown",
   "metadata": {},
   "source": [
    "## Setting up data"
   ]
  },
  {
   "cell_type": "code",
   "execution_count": 3,
   "metadata": {},
   "outputs": [],
   "source": [
    "# Make a log dataFrame\n",
    "column_names = [\"Category\",\"Name\",\"Year\",\"Branches\",\"Leaves\",\"Fruits\"]\n",
    "log_data = pd.DataFrame(columns = column_names)\n",
    "\n",
    "# Initiate the lists where the turtle classes and turtles will be stored\n",
    "turtle_classes = []\n",
    "turtles = []"
   ]
  },
  {
   "cell_type": "markdown",
   "metadata": {},
   "source": [
    "## Define the parameters of the trees\n",
    "More info about L-Systems: http://algorithmicbotany.org/papers/abop/abop.pdf# "
   ]
  },
  {
   "cell_type": "code",
   "execution_count": 4,
   "metadata": {},
   "outputs": [
    {
     "name": "stdout",
     "output_type": "stream",
     "text": [
      "Of the 4 seeds planted, 4 trees have grown\n"
     ]
    }
   ],
   "source": [
    "# Define amount of years that need to be simulated, the time needed for drawing increases exponentially\n",
    "years = 3\n",
    "\n",
    "# Define the amount of seeds that you want to plant and what the chance is that the seed will produce a tree (chance given in range 0.0-1.0)\n",
    "apple_seeds = 1\n",
    "apple_chance = 0.5\n",
    "\n",
    "pear_seeds = 1\n",
    "pear_chance = 0.7\n",
    "\n",
    "plum_seeds = 1\n",
    "plum_chance = 1\n",
    "\n",
    "hazelnut_seeds = 1\n",
    "hazelnut_chance = 1\n",
    "\n",
    "# Count the trees to now how much place has to be reserved in the rules array\n",
    "amount_trees = apple_seeds + pear_seeds + plum_seeds + hazelnut_seeds\n",
    "\n",
    "# Define L-System variables\n",
    "rules = [{} for _ in range(amount_trees)]\n",
    "\n",
    "\n",
    "# Class constructor arguments are: number, category, name, start_x, start_y, start_direction, branch_length, leaf_length, fruit_size, angle, axiom, fruit_from, fruit_prob, fruit_color\n",
    "## Loop through all the trees\n",
    "i = 0\n",
    "k = 0\n",
    "for j in range(apple_seeds):\n",
    "    # Check if the seed results in a tree\n",
    "    if (random.random()<=apple_chance):\n",
    "        # Append tree object to turtle_classes\n",
    "        turtle_classes.append(turtleControl(i,\"Fruit tree\", (\"Apple \"+str(k+1)), random.randint(-800,800), random.randint(-300,40),90,15,3,5,30,\"BB\",1,0.8, \"red\"))\n",
    "        # Define its rules\n",
    "        rules[i][\"B\"] = [\"B[+BL][-BL]\"]\n",
    "        rules[i][\"L\"] = [\"F\"]\n",
    "        # Increase i and k to indicate a tree has grown\n",
    "        i += 1\n",
    "        k += 1\n",
    "    \n",
    "k = 0\n",
    "for j in range(pear_seeds):\n",
    "    if (random.random()<=pear_chance):\n",
    "        turtle_classes.append(turtleControl(i,\"Fruit tree\", (\"Pear \"+str(k+1)), random.randint(-800,800), random.randint(-300,40),90,20,1,4,22.5,\"BL\",1,0.9,\"#C3D938\"))\n",
    "        rules[i][\"B\"] = [\"B[+B+BL][-B-BL]\"]\n",
    "        rules[i][\"L\"] = [\"F\"]\n",
    "        i += 1\n",
    "        k += 1\n",
    "\n",
    "k = 0\n",
    "for j in range(plum_seeds):\n",
    "    if (random.random()<=plum_chance):\n",
    "        turtle_classes.append(turtleControl(i,\"Fruit tree\", (\"Plum \"+str(k+1)), random.randint(-800,800), random.randint(-300,40),90,20,1,4,22.5,\"BBB\",1,0.9, \"#8e4585\"))\n",
    "        rules[i][\"B\"] = [\"B[+B-BL][-B+BL]\"]\n",
    "        rules[i][\"L\"] = [\"F\"]\n",
    "        i += 1\n",
    "        k += 1\n",
    "\n",
    "k = 0\n",
    "for j in range(hazelnut_seeds):\n",
    "    if (random.random()<=hazelnut_chance):\n",
    "        turtle_classes.append(turtleControl(i,\"Nut tree\", (\"Hazelnut \"+str(k+1)), random.randint(-800,800), random.randint(-300,40),90,20,1,4,22.5,\"BL\",1,0.9,\"#7b3f00\"))\n",
    "        rules[i][\"B\"] = [\"B[-B-B+BL][+B+B-BL]\"]\n",
    "        rules[i][\"L\"] = [\"F\"]\n",
    "        i += 1\n",
    "        k += 1\n",
    "        \n",
    "        \n",
    "print(\"Of the %i seeds planted, %i trees have grown\" % (amount_trees, i+1))"
   ]
  },
  {
   "cell_type": "markdown",
   "metadata": {},
   "source": [
    "## Start the program with labels"
   ]
  },
  {
   "cell_type": "code",
   "execution_count": 5,
   "metadata": {},
   "outputs": [],
   "source": [
    "# Start the program\n",
    "window = turtle.Screen()\n",
    "window.screensize(1000, 1000)\n",
    "window.setup(width=1.0, height=1.0, startx=None, starty=None)\n",
    "\n",
    "# Go through all objects and write the names according to their position\n",
    "for i in range(len(turtle_classes)):\n",
    "    turtle.hideturtle()\n",
    "    turtle.penup()\n",
    "    turtle.setx(turtle_classes[i].start_x-40)\n",
    "    turtle.sety(turtle_classes[i].start_y-30)\n",
    "    turtle.write(turtle_classes[i].name)"
   ]
  },
  {
   "cell_type": "markdown",
   "metadata": {},
   "source": [
    "## Iterate through the years and draw the trees"
   ]
  },
  {
   "cell_type": "code",
   "execution_count": 6,
   "metadata": {},
   "outputs": [
    {
     "name": "stdout",
     "output_type": "stream",
     "text": [
      "Year 1/3\n",
      "-- Drawing tree 1/3\n",
      "-- Drawing tree 2/3\n",
      "-- Drawing tree 3/3\n",
      "Year 2/3\n",
      "-- Drawing tree 1/3\n",
      "-- Drawing tree 2/3\n",
      "-- Drawing tree 3/3\n",
      "Year 3/3\n",
      "-- Drawing tree 1/3\n",
      "-- Drawing tree 2/3\n",
      "-- Drawing tree 3/3\n",
      "Wall time: 27.4 s\n"
     ]
    }
   ],
   "source": [
    "%%time\n",
    "# Record time (for fun :))\n",
    "\n",
    "\n",
    "# Go through x amount of years (j) and then go through every tree and draw it\n",
    "for j in range(years):\n",
    "    print(\"Year %i/%i\" % (j+1,years))\n",
    "    for i in range(len(turtle_classes)):\n",
    "        \n",
    "        # Call the function to draw the L-system chain\n",
    "        turtle_classes[i].draw()\n",
    "        \n",
    "        # Call newyear function to make sure the turtle goes back to its initial position\n",
    "        turtle_classes[i].newyear()\n",
    "        \n",
    "        # Write the counts of the tree\n",
    "        turtle.setx(turtle_classes[i].start_x-40)\n",
    "        turtle.sety(turtle_classes[i].start_y-40-10*j)\n",
    "        year = str(j + 1)\n",
    "        turtle.write(\"Year \"+year+\":\"+str(turtle_classes[i].counts))\n",
    "        \n",
    "        # Show state for long drawing process insight\n",
    "        print(\"-- Drawing tree %i/%i\" % (i+1,len(turtle_classes)))\n"
   ]
  },
  {
   "cell_type": "markdown",
   "metadata": {},
   "source": [
    "## Show results"
   ]
  },
  {
   "cell_type": "code",
   "execution_count": 7,
   "metadata": {},
   "outputs": [
    {
     "data": {
      "image/png": "[encoded data removed]",
      "text/plain": [
       "<Figure size 432x288 with 1 Axes>"
      ]
     },
     "metadata": {
      "needs_background": "light"
     },
     "output_type": "display_data"
    },
    {
     "data": {
      "image/png": "[encoded data removed]",
      "text/plain": [
       "<Figure size 432x288 with 1 Axes>"
      ]
     },
     "metadata": {
      "needs_background": "light"
     },
     "output_type": "display_data"
    },
    {
     "data": {
      "image/png": "[encoded data removed]",
      "text/plain": [
       "<Figure size 432x288 with 1 Axes>"
      ]
     },
     "metadata": {
      "needs_background": "light"
     },
     "output_type": "display_data"
    },
    {
     "name": "stdout",
     "output_type": "stream",
     "text": [
      "     Category        Name Year Branches Leaves Fruits\n",
      "0  Fruit tree     Apple 1    1        2      0      0\n",
      "1  Fruit tree      Plum 1    1        3      0      0\n",
      "2    Nut tree  Hazelnut 1    1        1      1      0\n",
      "3  Fruit tree     Apple 1    2        6      4      0\n",
      "4  Fruit tree      Plum 1    2       15      6      0\n",
      "5    Nut tree  Hazelnut 1    2        7      2      1\n",
      "6  Fruit tree     Apple 1    3       18     12      4\n",
      "7  Fruit tree      Plum 1    3       75     30      6\n",
      "8    Nut tree  Hazelnut 1    3       49     14      3\n"
     ]
    }
   ],
   "source": [
    "# Group data per category, sum it and plot the data\n",
    "(log_data.groupby(['Category', 'Year'])['Fruits']\n",
    "   .sum()\n",
    "   .unstack('Category', fill_value=0)\n",
    "   .plot())\n",
    "plt.xlabel(\"Year\")\n",
    "plt.ylabel(\"Fruits\")\n",
    "plt.title(\"Fruits per year per category\")\n",
    "plt.show()\n",
    "\n",
    "# Group data per name, sum it and plot the data\n",
    "(log_data.groupby(['Name', 'Year'])['Fruits']\n",
    "   .sum()\n",
    "   .unstack('Name', fill_value=0)\n",
    "   .plot())\n",
    "plt.xlabel(\"Year\")\n",
    "plt.ylabel(\"Name\")\n",
    "plt.title(\"Fruits per year per tree\")\n",
    "\n",
    "# Group data per name, sum it and plot the data\n",
    "log_data.groupby(['Name','Year']).sum().plot.bar()\n",
    "plt.title(\"Amount of branches/leaves/fruits per tree per year\")\n",
    "\n",
    "plt.show()\n",
    "\n",
    "\n",
    "print(log_data)"
   ]
  },
  {
   "cell_type": "code",
   "execution_count": 8,
   "metadata": {},
   "outputs": [],
   "source": [
    "# This command makes sure the turtle screen doesn't freeze\n",
    "turtle.done()"
   ]
  }
 ],
 "metadata": {
  "interpreter": {
   "hash": "d09ba14b7b0b0897d770cbe2a821f188a8695c7829f913c979e804906830f275"
  },
  "kernelspec": {
   "display_name": "Python 3.9.1 64-bit ('Ahmed': virtualenv)",
   "name": "python3"
  },
  "language_info": {
   "codemirror_mode": {
    "name": "ipython",
    "version": 3
   },
   "file_extension": ".py",
   "mimetype": "text/x-python",
   "name": "python",
   "nbconvert_exporter": "python",
   "pygments_lexer": "ipython3",
   "version": "3.9.1"
  }
 },
 "nbformat": 4,
 "nbformat_minor": 4
}